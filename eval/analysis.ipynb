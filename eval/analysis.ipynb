{
 "cells": [
  {
   "cell_type": "code",
   "execution_count": 1,
   "metadata": {},
   "outputs": [],
   "source": [
    "import pandas as pd\n",
    "\n",
    "frame = pd.read_csv(\"../results.csv\")"
   ]
  },
  {
   "cell_type": "code",
   "execution_count": 7,
   "metadata": {},
   "outputs": [
    {
     "data": {
      "text/html": [
       "<div>\n",
       "<style scoped>\n",
       "    .dataframe tbody tr th:only-of-type {\n",
       "        vertical-align: middle;\n",
       "    }\n",
       "\n",
       "    .dataframe tbody tr th {\n",
       "        vertical-align: top;\n",
       "    }\n",
       "\n",
       "    .dataframe thead th {\n",
       "        text-align: right;\n",
       "    }\n",
       "</style>\n",
       "<table border=\"1\" class=\"dataframe\">\n",
       "  <thead>\n",
       "    <tr style=\"text-align: right;\">\n",
       "      <th></th>\n",
       "      <th>p</th>\n",
       "      <th>r</th>\n",
       "      <th>f1</th>\n",
       "    </tr>\n",
       "    <tr>\n",
       "      <th>method</th>\n",
       "      <th></th>\n",
       "      <th></th>\n",
       "      <th></th>\n",
       "    </tr>\n",
       "  </thead>\n",
       "  <tbody>\n",
       "    <tr>\n",
       "      <th>pure_variable_dataset_gpt-3.5-turbo-16k</th>\n",
       "      <td>0.074057</td>\n",
       "      <td>0.081391</td>\n",
       "      <td>0.071663</td>\n",
       "    </tr>\n",
       "    <tr>\n",
       "      <th>pure_variable_dataset_gpt-4-1106-preview</th>\n",
       "      <td>0.183031</td>\n",
       "      <td>0.209723</td>\n",
       "      <td>0.181487</td>\n",
       "    </tr>\n",
       "    <tr>\n",
       "      <th>pure_variable_dataset_gpt-4o</th>\n",
       "      <td>0.185548</td>\n",
       "      <td>0.204475</td>\n",
       "      <td>0.181847</td>\n",
       "    </tr>\n",
       "    <tr>\n",
       "      <th>pure_variable_dataset_gpt-4o-mini</th>\n",
       "      <td>0.108114</td>\n",
       "      <td>0.117223</td>\n",
       "      <td>0.105319</td>\n",
       "    </tr>\n",
       "    <tr>\n",
       "      <th>pure_variable_dataset_llama</th>\n",
       "      <td>0.168419</td>\n",
       "      <td>0.189684</td>\n",
       "      <td>0.167442</td>\n",
       "    </tr>\n",
       "    <tr>\n",
       "      <th>pure_variable_dataset_mistral</th>\n",
       "      <td>0.082573</td>\n",
       "      <td>0.109331</td>\n",
       "      <td>0.086513</td>\n",
       "    </tr>\n",
       "    <tr>\n",
       "      <th>rules_extractions</th>\n",
       "      <td>0.301827</td>\n",
       "      <td>0.259755</td>\n",
       "      <td>0.264769</td>\n",
       "    </tr>\n",
       "    <tr>\n",
       "      <th>tool_variable_dataset_gpt-3.5-turbo-16k</th>\n",
       "      <td>0.085243</td>\n",
       "      <td>0.092252</td>\n",
       "      <td>0.083705</td>\n",
       "    </tr>\n",
       "    <tr>\n",
       "      <th>tool_variable_dataset_gpt-4-1106-preview</th>\n",
       "      <td>0.195246</td>\n",
       "      <td>0.210991</td>\n",
       "      <td>0.190258</td>\n",
       "    </tr>\n",
       "    <tr>\n",
       "      <th>tool_variable_dataset_gpt-4o</th>\n",
       "      <td>0.152247</td>\n",
       "      <td>0.205918</td>\n",
       "      <td>0.165556</td>\n",
       "    </tr>\n",
       "    <tr>\n",
       "      <th>tool_variable_dataset_gpt-4o-mini</th>\n",
       "      <td>0.195958</td>\n",
       "      <td>0.195145</td>\n",
       "      <td>0.186912</td>\n",
       "    </tr>\n",
       "    <tr>\n",
       "      <th>tool_variable_dataset_llama</th>\n",
       "      <td>0.132809</td>\n",
       "      <td>0.154642</td>\n",
       "      <td>0.136366</td>\n",
       "    </tr>\n",
       "    <tr>\n",
       "      <th>tool_variable_dataset_mistral</th>\n",
       "      <td>0.091112</td>\n",
       "      <td>0.116975</td>\n",
       "      <td>0.094697</td>\n",
       "    </tr>\n",
       "  </tbody>\n",
       "</table>\n",
       "</div>"
      ],
      "text/plain": [
       "                                                 p         r        f1\n",
       "method                                                                \n",
       "pure_variable_dataset_gpt-3.5-turbo-16k   0.074057  0.081391  0.071663\n",
       "pure_variable_dataset_gpt-4-1106-preview  0.183031  0.209723  0.181487\n",
       "pure_variable_dataset_gpt-4o              0.185548  0.204475  0.181847\n",
       "pure_variable_dataset_gpt-4o-mini         0.108114  0.117223  0.105319\n",
       "pure_variable_dataset_llama               0.168419  0.189684  0.167442\n",
       "pure_variable_dataset_mistral             0.082573  0.109331  0.086513\n",
       "rules_extractions                         0.301827  0.259755  0.264769\n",
       "tool_variable_dataset_gpt-3.5-turbo-16k   0.085243  0.092252  0.083705\n",
       "tool_variable_dataset_gpt-4-1106-preview  0.195246  0.210991  0.190258\n",
       "tool_variable_dataset_gpt-4o              0.152247  0.205918  0.165556\n",
       "tool_variable_dataset_gpt-4o-mini         0.195958  0.195145  0.186912\n",
       "tool_variable_dataset_llama               0.132809  0.154642  0.136366\n",
       "tool_variable_dataset_mistral             0.091112  0.116975  0.094697"
      ]
     },
     "execution_count": 7,
     "metadata": {},
     "output_type": "execute_result"
    }
   ],
   "source": [
    "frame.groupby(\"method\")[['p', 'r', 'f1']].mean()"
   ]
  },
  {
   "cell_type": "code",
   "execution_count": 27,
   "metadata": {},
   "outputs": [
    {
     "data": {
      "text/plain": [
       "method\n",
       "pure_variable_dataset_gpt-3.5-turbo-16k     0.106518\n",
       "pure_variable_dataset_gpt-4-1106-preview    0.266369\n",
       "pure_variable_dataset_gpt-4o                0.260460\n",
       "pure_variable_dataset_gpt-4o-mini           0.149957\n",
       "pure_variable_dataset_llama                 0.258646\n",
       "pure_variable_dataset_mistral               0.141999\n",
       "rules_extractions                           0.398259\n",
       "tool_variable_dataset_gpt-3.5-turbo-16k     0.121027\n",
       "tool_variable_dataset_gpt-4-1106-preview    0.267186\n",
       "tool_variable_dataset_gpt-4o                0.263356\n",
       "tool_variable_dataset_gpt-4o-mini           0.247641\n",
       "tool_variable_dataset_llama                 0.208718\n",
       "tool_variable_dataset_mistral               0.153541\n",
       "Name: p, dtype: float64"
      ]
     },
     "execution_count": 27,
     "metadata": {},
     "output_type": "execute_result"
    }
   ],
   "source": [
    "def hola(s):\n",
    "\treturn (s>.0).mean()\n",
    "\n",
    "frame.groupby(\"method\")['p'].agg(hola)"
   ]
  },
  {
   "cell_type": "code",
   "execution_count": 25,
   "metadata": {},
   "outputs": [
    {
     "data": {
      "text/plain": [
       "method\n",
       "pure_variable_dataset_gpt-3.5-turbo-16k     1.0\n",
       "pure_variable_dataset_gpt-4-1106-preview    1.0\n",
       "pure_variable_dataset_gpt-4o                1.0\n",
       "pure_variable_dataset_gpt-4o-mini           1.0\n",
       "pure_variable_dataset_llama                 1.0\n",
       "pure_variable_dataset_mistral               1.0\n",
       "rules_extractions                           1.0\n",
       "tool_variable_dataset_gpt-3.5-turbo-16k     1.0\n",
       "tool_variable_dataset_gpt-4-1106-preview    1.0\n",
       "tool_variable_dataset_gpt-4o                1.0\n",
       "tool_variable_dataset_gpt-4o-mini           1.0\n",
       "tool_variable_dataset_mistral               1.0\n",
       "Name: p, dtype: float64"
      ]
     },
     "execution_count": 25,
     "metadata": {},
     "output_type": "execute_result"
    }
   ],
   "source": [
    "frame[frame.p == 1.].groupby(\"method\")['p'].count()"
   ]
  },
  {
   "cell_type": "code",
   "execution_count": 34,
   "metadata": {},
   "outputs": [
    {
     "data": {
      "text/plain": [
       "4780"
      ]
     },
     "execution_count": 34,
     "metadata": {},
     "output_type": "execute_result"
    }
   ],
   "source": [
    "rules = frame[frame.method == \"pure_variable_dataset_gpt-4o\"]\n",
    "rules['p'].count()"
   ]
  },
  {
   "cell_type": "code",
   "execution_count": null,
   "metadata": {},
   "outputs": [],
   "source": []
  }
 ],
 "metadata": {
  "kernelspec": {
   "display_name": "skema-dev",
   "language": "python",
   "name": "python3"
  },
  "language_info": {
   "codemirror_mode": {
    "name": "ipython",
    "version": 3
   },
   "file_extension": ".py",
   "mimetype": "text/x-python",
   "name": "python",
   "nbconvert_exporter": "python",
   "pygments_lexer": "ipython3",
   "version": "3.8.18"
  }
 },
 "nbformat": 4,
 "nbformat_minor": 2
}
