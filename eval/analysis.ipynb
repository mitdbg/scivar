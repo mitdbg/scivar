{
 "cells": [
  {
   "cell_type": "code",
   "execution_count": 46,
   "metadata": {},
   "outputs": [],
   "source": [
    "import pandas as pd\n",
    "\n",
    "frame = pd.read_csv(\"../results.csv\")"
   ]
  },
  {
   "cell_type": "code",
   "execution_count": 47,
   "metadata": {},
   "outputs": [
    {
     "data": {
      "text/html": [
       "<div>\n",
       "<style scoped>\n",
       "    .dataframe tbody tr th:only-of-type {\n",
       "        vertical-align: middle;\n",
       "    }\n",
       "\n",
       "    .dataframe tbody tr th {\n",
       "        vertical-align: top;\n",
       "    }\n",
       "\n",
       "    .dataframe thead th {\n",
       "        text-align: right;\n",
       "    }\n",
       "</style>\n",
       "<table border=\"1\" class=\"dataframe\">\n",
       "  <thead>\n",
       "    <tr style=\"text-align: right;\">\n",
       "      <th></th>\n",
       "      <th>p</th>\n",
       "      <th>r</th>\n",
       "      <th>f1</th>\n",
       "    </tr>\n",
       "    <tr>\n",
       "      <th>method</th>\n",
       "      <th></th>\n",
       "      <th></th>\n",
       "      <th></th>\n",
       "    </tr>\n",
       "  </thead>\n",
       "  <tbody>\n",
       "    <tr>\n",
       "      <th>pure_variable_dataset_gpt-3.5-turbo-16k</th>\n",
       "      <td>0.202115</td>\n",
       "      <td>0.217632</td>\n",
       "      <td>0.193055</td>\n",
       "    </tr>\n",
       "    <tr>\n",
       "      <th>pure_variable_dataset_gpt-4-1106-preview</th>\n",
       "      <td>0.245512</td>\n",
       "      <td>0.276621</td>\n",
       "      <td>0.239065</td>\n",
       "    </tr>\n",
       "    <tr>\n",
       "      <th>pure_variable_dataset_gpt-4o</th>\n",
       "      <td>0.242382</td>\n",
       "      <td>0.259697</td>\n",
       "      <td>0.232405</td>\n",
       "    </tr>\n",
       "    <tr>\n",
       "      <th>pure_variable_dataset_gpt-4o-mini</th>\n",
       "      <td>0.141560</td>\n",
       "      <td>0.142544</td>\n",
       "      <td>0.132600</td>\n",
       "    </tr>\n",
       "    <tr>\n",
       "      <th>pure_variable_dataset_llama</th>\n",
       "      <td>0.238091</td>\n",
       "      <td>0.264765</td>\n",
       "      <td>0.230647</td>\n",
       "    </tr>\n",
       "    <tr>\n",
       "      <th>pure_variable_dataset_mistral</th>\n",
       "      <td>0.106945</td>\n",
       "      <td>0.133956</td>\n",
       "      <td>0.107340</td>\n",
       "    </tr>\n",
       "    <tr>\n",
       "      <th>rules_extractions</th>\n",
       "      <td>0.301827</td>\n",
       "      <td>0.259755</td>\n",
       "      <td>0.264769</td>\n",
       "    </tr>\n",
       "    <tr>\n",
       "      <th>tool_variable_dataset_gpt-3.5-turbo-16k</th>\n",
       "      <td>0.111736</td>\n",
       "      <td>0.116859</td>\n",
       "      <td>0.106994</td>\n",
       "    </tr>\n",
       "    <tr>\n",
       "      <th>tool_variable_dataset_gpt-4-1106-preview</th>\n",
       "      <td>0.265326</td>\n",
       "      <td>0.277187</td>\n",
       "      <td>0.253658</td>\n",
       "    </tr>\n",
       "    <tr>\n",
       "      <th>tool_variable_dataset_gpt-4o</th>\n",
       "      <td>0.242308</td>\n",
       "      <td>0.260725</td>\n",
       "      <td>0.234208</td>\n",
       "    </tr>\n",
       "    <tr>\n",
       "      <th>tool_variable_dataset_gpt-4o-mini</th>\n",
       "      <td>0.270084</td>\n",
       "      <td>0.257586</td>\n",
       "      <td>0.250151</td>\n",
       "    </tr>\n",
       "    <tr>\n",
       "      <th>tool_variable_dataset_llama</th>\n",
       "      <td>0.156448</td>\n",
       "      <td>0.187968</td>\n",
       "      <td>0.159849</td>\n",
       "    </tr>\n",
       "    <tr>\n",
       "      <th>tool_variable_dataset_mistral</th>\n",
       "      <td>0.123022</td>\n",
       "      <td>0.139335</td>\n",
       "      <td>0.119214</td>\n",
       "    </tr>\n",
       "    <tr>\n",
       "      <th>variable_dataset_pz_formatted</th>\n",
       "      <td>0.025803</td>\n",
       "      <td>0.028419</td>\n",
       "      <td>0.023120</td>\n",
       "    </tr>\n",
       "  </tbody>\n",
       "</table>\n",
       "</div>"
      ],
      "text/plain": [
       "                                                 p         r        f1\n",
       "method                                                                \n",
       "pure_variable_dataset_gpt-3.5-turbo-16k   0.202115  0.217632  0.193055\n",
       "pure_variable_dataset_gpt-4-1106-preview  0.245512  0.276621  0.239065\n",
       "pure_variable_dataset_gpt-4o              0.242382  0.259697  0.232405\n",
       "pure_variable_dataset_gpt-4o-mini         0.141560  0.142544  0.132600\n",
       "pure_variable_dataset_llama               0.238091  0.264765  0.230647\n",
       "pure_variable_dataset_mistral             0.106945  0.133956  0.107340\n",
       "rules_extractions                         0.301827  0.259755  0.264769\n",
       "tool_variable_dataset_gpt-3.5-turbo-16k   0.111736  0.116859  0.106994\n",
       "tool_variable_dataset_gpt-4-1106-preview  0.265326  0.277187  0.253658\n",
       "tool_variable_dataset_gpt-4o              0.242308  0.260725  0.234208\n",
       "tool_variable_dataset_gpt-4o-mini         0.270084  0.257586  0.250151\n",
       "tool_variable_dataset_llama               0.156448  0.187968  0.159849\n",
       "tool_variable_dataset_mistral             0.123022  0.139335  0.119214\n",
       "variable_dataset_pz_formatted             0.025803  0.028419  0.023120"
      ]
     },
     "execution_count": 47,
     "metadata": {},
     "output_type": "execute_result"
    }
   ],
   "source": [
    "frame.groupby(\"method\")[['p', 'r', 'f1']].mean()"
   ]
  },
  {
   "cell_type": "code",
   "execution_count": 48,
   "metadata": {},
   "outputs": [
    {
     "data": {
      "text/plain": [
       "method\n",
       "pure_variable_dataset_gpt-3.5-turbo-16k     0.290395\n",
       "pure_variable_dataset_gpt-4-1106-preview    0.359867\n",
       "pure_variable_dataset_gpt-4o                0.341270\n",
       "pure_variable_dataset_gpt-4o-mini           0.193916\n",
       "pure_variable_dataset_llama                 0.366603\n",
       "pure_variable_dataset_mistral               0.181125\n",
       "rules_extractions                           0.398259\n",
       "tool_variable_dataset_gpt-3.5-turbo-16k     0.153216\n",
       "tool_variable_dataset_gpt-4-1106-preview    0.356334\n",
       "tool_variable_dataset_gpt-4o                0.345543\n",
       "tool_variable_dataset_gpt-4o-mini           0.342630\n",
       "tool_variable_dataset_llama                 0.257417\n",
       "tool_variable_dataset_mistral               0.188630\n",
       "variable_dataset_pz_formatted               0.098785\n",
       "Name: p, dtype: float64"
      ]
     },
     "execution_count": 48,
     "metadata": {},
     "output_type": "execute_result"
    }
   ],
   "source": [
    "def hola(s):\n",
    "\treturn (s>.0).mean()\n",
    "\n",
    "frame.groupby(\"method\")['p'].agg(hola)"
   ]
  },
  {
   "cell_type": "code",
   "execution_count": 49,
   "metadata": {},
   "outputs": [
    {
     "data": {
      "text/plain": [
       "method\n",
       "pure_variable_dataset_gpt-3.5-turbo-16k     729\n",
       "pure_variable_dataset_gpt-4-1106-preview    730\n",
       "pure_variable_dataset_gpt-4o                774\n",
       "pure_variable_dataset_gpt-4o-mini           799\n",
       "pure_variable_dataset_llama                 491\n",
       "pure_variable_dataset_mistral               483\n",
       "rules_extractions                           743\n",
       "tool_variable_dataset_gpt-3.5-turbo-16k     707\n",
       "tool_variable_dataset_gpt-4-1106-preview    877\n",
       "tool_variable_dataset_gpt-4o                771\n",
       "tool_variable_dataset_gpt-4o-mini           988\n",
       "tool_variable_dataset_llama                 157\n",
       "tool_variable_dataset_mistral               521\n",
       "variable_dataset_pz_formatted                23\n",
       "Name: p, dtype: int64"
      ]
     },
     "execution_count": 49,
     "metadata": {},
     "output_type": "execute_result"
    }
   ],
   "source": [
    "frame[frame.p == 1.].groupby(\"method\")['p'].count()"
   ]
  },
  {
   "cell_type": "code",
   "execution_count": 50,
   "metadata": {},
   "outputs": [
    {
     "data": {
      "text/plain": [
       "5166"
      ]
     },
     "execution_count": 50,
     "metadata": {},
     "output_type": "execute_result"
    }
   ],
   "source": [
    "rules = frame[frame.method == \"pure_variable_dataset_gpt-4o\"]\n",
    "rules['p'].count()"
   ]
  },
  {
   "cell_type": "code",
   "execution_count": null,
   "metadata": {},
   "outputs": [],
   "source": []
  }
 ],
 "metadata": {
  "kernelspec": {
   "display_name": "skema-dev",
   "language": "python",
   "name": "python3"
  },
  "language_info": {
   "codemirror_mode": {
    "name": "ipython",
    "version": 3
   },
   "file_extension": ".py",
   "mimetype": "text/x-python",
   "name": "python",
   "nbconvert_exporter": "python",
   "pygments_lexer": "ipython3",
   "version": "3.8.18"
  }
 },
 "nbformat": 4,
 "nbformat_minor": 2
}
