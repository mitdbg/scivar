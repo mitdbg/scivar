{
 "cells": [
  {
   "cell_type": "code",
   "execution_count": 30,
   "metadata": {},
   "outputs": [],
   "source": [
    "import pandas as pd\n",
    "\n",
    "frame = pd.read_csv(\"../results_bertscore.csv\")"
   ]
  },
  {
   "cell_type": "code",
   "execution_count": 31,
   "metadata": {},
   "outputs": [
    {
     "data": {
      "text/html": [
       "<div>\n",
       "<style scoped>\n",
       "    .dataframe tbody tr th:only-of-type {\n",
       "        vertical-align: middle;\n",
       "    }\n",
       "\n",
       "    .dataframe tbody tr th {\n",
       "        vertical-align: top;\n",
       "    }\n",
       "\n",
       "    .dataframe thead th {\n",
       "        text-align: right;\n",
       "    }\n",
       "</style>\n",
       "<table border=\"1\" class=\"dataframe\">\n",
       "  <thead>\n",
       "    <tr style=\"text-align: right;\">\n",
       "      <th></th>\n",
       "      <th>p</th>\n",
       "      <th>r</th>\n",
       "      <th>f1</th>\n",
       "    </tr>\n",
       "    <tr>\n",
       "      <th>method</th>\n",
       "      <th></th>\n",
       "      <th></th>\n",
       "      <th></th>\n",
       "    </tr>\n",
       "  </thead>\n",
       "  <tbody>\n",
       "    <tr>\n",
       "      <th>pure_variable_dataset_gpt-3.5-turbo-16k</th>\n",
       "      <td>0.206233</td>\n",
       "      <td>0.200866</td>\n",
       "      <td>0.201774</td>\n",
       "    </tr>\n",
       "    <tr>\n",
       "      <th>pure_variable_dataset_gpt-4-1106-preview</th>\n",
       "      <td>0.235539</td>\n",
       "      <td>0.233983</td>\n",
       "      <td>0.232908</td>\n",
       "    </tr>\n",
       "    <tr>\n",
       "      <th>pure_variable_dataset_gpt-4o</th>\n",
       "      <td>0.241853</td>\n",
       "      <td>0.237599</td>\n",
       "      <td>0.237938</td>\n",
       "    </tr>\n",
       "    <tr>\n",
       "      <th>pure_variable_dataset_gpt-4o-mini</th>\n",
       "      <td>0.244757</td>\n",
       "      <td>0.239142</td>\n",
       "      <td>0.240065</td>\n",
       "    </tr>\n",
       "    <tr>\n",
       "      <th>pure_variable_dataset_llama</th>\n",
       "      <td>0.245506</td>\n",
       "      <td>0.245583</td>\n",
       "      <td>0.244067</td>\n",
       "    </tr>\n",
       "    <tr>\n",
       "      <th>pure_variable_dataset_mistral</th>\n",
       "      <td>0.136111</td>\n",
       "      <td>0.144429</td>\n",
       "      <td>0.138993</td>\n",
       "    </tr>\n",
       "    <tr>\n",
       "      <th>rules_extractions</th>\n",
       "      <td>0.336140</td>\n",
       "      <td>0.310430</td>\n",
       "      <td>0.320503</td>\n",
       "    </tr>\n",
       "    <tr>\n",
       "      <th>tool_variable_dataset_gpt-3.5-turbo-16k</th>\n",
       "      <td>0.175165</td>\n",
       "      <td>0.172311</td>\n",
       "      <td>0.172412</td>\n",
       "    </tr>\n",
       "    <tr>\n",
       "      <th>tool_variable_dataset_gpt-4-1106-preview</th>\n",
       "      <td>0.244056</td>\n",
       "      <td>0.237665</td>\n",
       "      <td>0.238929</td>\n",
       "    </tr>\n",
       "    <tr>\n",
       "      <th>tool_variable_dataset_gpt-4o</th>\n",
       "      <td>0.225265</td>\n",
       "      <td>0.243974</td>\n",
       "      <td>0.233081</td>\n",
       "    </tr>\n",
       "    <tr>\n",
       "      <th>tool_variable_dataset_gpt-4o-mini</th>\n",
       "      <td>0.260370</td>\n",
       "      <td>0.247160</td>\n",
       "      <td>0.251881</td>\n",
       "    </tr>\n",
       "    <tr>\n",
       "      <th>tool_variable_dataset_llama</th>\n",
       "      <td>0.221153</td>\n",
       "      <td>0.224591</td>\n",
       "      <td>0.221806</td>\n",
       "    </tr>\n",
       "    <tr>\n",
       "      <th>tool_variable_dataset_mistral</th>\n",
       "      <td>0.158321</td>\n",
       "      <td>0.169148</td>\n",
       "      <td>0.162395</td>\n",
       "    </tr>\n",
       "  </tbody>\n",
       "</table>\n",
       "</div>"
      ],
      "text/plain": [
       "                                                 p         r        f1\n",
       "method                                                                \n",
       "pure_variable_dataset_gpt-3.5-turbo-16k   0.206233  0.200866  0.201774\n",
       "pure_variable_dataset_gpt-4-1106-preview  0.235539  0.233983  0.232908\n",
       "pure_variable_dataset_gpt-4o              0.241853  0.237599  0.237938\n",
       "pure_variable_dataset_gpt-4o-mini         0.244757  0.239142  0.240065\n",
       "pure_variable_dataset_llama               0.245506  0.245583  0.244067\n",
       "pure_variable_dataset_mistral             0.136111  0.144429  0.138993\n",
       "rules_extractions                         0.336140  0.310430  0.320503\n",
       "tool_variable_dataset_gpt-3.5-turbo-16k   0.175165  0.172311  0.172412\n",
       "tool_variable_dataset_gpt-4-1106-preview  0.244056  0.237665  0.238929\n",
       "tool_variable_dataset_gpt-4o              0.225265  0.243974  0.233081\n",
       "tool_variable_dataset_gpt-4o-mini         0.260370  0.247160  0.251881\n",
       "tool_variable_dataset_llama               0.221153  0.224591  0.221806\n",
       "tool_variable_dataset_mistral             0.158321  0.169148  0.162395"
      ]
     },
     "execution_count": 31,
     "metadata": {},
     "output_type": "execute_result"
    }
   ],
   "source": [
    "frame.groupby(\"method\")[['p', 'r', 'f1']].mean()"
   ]
  },
  {
   "cell_type": "code",
   "execution_count": 32,
   "metadata": {},
   "outputs": [
    {
     "data": {
      "text/plain": [
       "51527"
      ]
     },
     "execution_count": 32,
     "metadata": {},
     "output_type": "execute_result"
    }
   ],
   "source": [
    "len(frame)"
   ]
  },
  {
   "cell_type": "code",
   "execution_count": 35,
   "metadata": {},
   "outputs": [
    {
     "data": {
      "text/plain": [
       "method\n",
       "pure_variable_dataset_gpt-3.5-turbo-16k    1\n",
       "pure_variable_dataset_gpt-4o-mini          2\n",
       "rules_extractions                          5\n",
       "tool_variable_dataset_gpt-3.5-turbo-16k    1\n",
       "tool_variable_dataset_mistral              1\n",
       "Name: p, dtype: int64"
      ]
     },
     "execution_count": 35,
     "metadata": {},
     "output_type": "execute_result"
    }
   ],
   "source": [
    "frame[frame.p == 1.].groupby(\"method\")['p'].count()"
   ]
  },
  {
   "cell_type": "code",
   "execution_count": 34,
   "metadata": {},
   "outputs": [
    {
     "data": {
      "text/plain": [
       "3763"
      ]
     },
     "execution_count": 34,
     "metadata": {},
     "output_type": "execute_result"
    }
   ],
   "source": [
    "rules = frame[frame.method == \"pure_variable_dataset_gpt-4o\"]\n",
    "rules['p'].count()"
   ]
  },
  {
   "cell_type": "code",
   "execution_count": null,
   "metadata": {},
   "outputs": [],
   "source": []
  }
 ],
 "metadata": {
  "kernelspec": {
   "display_name": "skema-dev",
   "language": "python",
   "name": "python3"
  },
  "language_info": {
   "codemirror_mode": {
    "name": "ipython",
    "version": 3
   },
   "file_extension": ".py",
   "mimetype": "text/x-python",
   "name": "python",
   "nbconvert_exporter": "python",
   "pygments_lexer": "ipython3",
   "version": "3.8.18"
  }
 },
 "nbformat": 4,
 "nbformat_minor": 2
}
